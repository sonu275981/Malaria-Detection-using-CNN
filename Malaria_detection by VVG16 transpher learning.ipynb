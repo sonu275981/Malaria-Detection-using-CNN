{
 "cells": [
  {
   "cell_type": "code",
   "execution_count": 1,
   "id": "55657412",
   "metadata": {},
   "outputs": [],
   "source": [
    "from tensorflow.keras.applications.vgg16 import VGG16,preprocess_input,decode_predictions\n",
    "from tensorflow.keras.preprocessing import image\n",
    "import numpy as np\n",
    "import cv2\n",
    "import os\n",
    "import random\n",
    "import matplotlib.pyplot as plt\n",
    "from sklearn.preprocessing import LabelBinarizer\n",
    "from tensorflow.keras.utils import to_categorical\n",
    "from imutils import paths\n",
    "from sklearn.model_selection import train_test_split\n",
    "from keras.preprocessing.image import load_img\n",
    "from tensorflow.keras.layers import Reshape\n",
    "\n",
    "from keras.preprocessing import image\n",
    "from keras.preprocessing.image import ImageDataGenerator,load_img\n",
    "import matplotlib.pyplot as plt\n",
    "from keras.models import Sequential, load_model\n",
    "from keras.layers import Conv2D, MaxPooling2D\n",
    "from keras.layers import Activation, Dropout, Flatten, Dense\n",
    "import PIL"
   ]
  },
  {
   "cell_type": "code",
   "execution_count": 2,
   "id": "926b7ea8",
   "metadata": {},
   "outputs": [],
   "source": [
    "vgg = VGG16()"
   ]
  },
  {
   "cell_type": "code",
   "execution_count": 3,
   "id": "9813cdf5",
   "metadata": {},
   "outputs": [
    {
     "name": "stdout",
     "output_type": "stream",
     "text": [
      "Model: \"vgg16\"\n",
      "_________________________________________________________________\n",
      "Layer (type)                 Output Shape              Param #   \n",
      "=================================================================\n",
      "input_1 (InputLayer)         [(None, 224, 224, 3)]     0         \n",
      "_________________________________________________________________\n",
      "block1_conv1 (Conv2D)        (None, 224, 224, 64)      1792      \n",
      "_________________________________________________________________\n",
      "block1_conv2 (Conv2D)        (None, 224, 224, 64)      36928     \n",
      "_________________________________________________________________\n",
      "block1_pool (MaxPooling2D)   (None, 112, 112, 64)      0         \n",
      "_________________________________________________________________\n",
      "block2_conv1 (Conv2D)        (None, 112, 112, 128)     73856     \n",
      "_________________________________________________________________\n",
      "block2_conv2 (Conv2D)        (None, 112, 112, 128)     147584    \n",
      "_________________________________________________________________\n",
      "block2_pool (MaxPooling2D)   (None, 56, 56, 128)       0         \n",
      "_________________________________________________________________\n",
      "block3_conv1 (Conv2D)        (None, 56, 56, 256)       295168    \n",
      "_________________________________________________________________\n",
      "block3_conv2 (Conv2D)        (None, 56, 56, 256)       590080    \n",
      "_________________________________________________________________\n",
      "block3_conv3 (Conv2D)        (None, 56, 56, 256)       590080    \n",
      "_________________________________________________________________\n",
      "block3_pool (MaxPooling2D)   (None, 28, 28, 256)       0         \n",
      "_________________________________________________________________\n",
      "block4_conv1 (Conv2D)        (None, 28, 28, 512)       1180160   \n",
      "_________________________________________________________________\n",
      "block4_conv2 (Conv2D)        (None, 28, 28, 512)       2359808   \n",
      "_________________________________________________________________\n",
      "block4_conv3 (Conv2D)        (None, 28, 28, 512)       2359808   \n",
      "_________________________________________________________________\n",
      "block4_pool (MaxPooling2D)   (None, 14, 14, 512)       0         \n",
      "_________________________________________________________________\n",
      "block5_conv1 (Conv2D)        (None, 14, 14, 512)       2359808   \n",
      "_________________________________________________________________\n",
      "block5_conv2 (Conv2D)        (None, 14, 14, 512)       2359808   \n",
      "_________________________________________________________________\n",
      "block5_conv3 (Conv2D)        (None, 14, 14, 512)       2359808   \n",
      "_________________________________________________________________\n",
      "block5_pool (MaxPooling2D)   (None, 7, 7, 512)         0         \n",
      "_________________________________________________________________\n",
      "flatten (Flatten)            (None, 25088)             0         \n",
      "_________________________________________________________________\n",
      "fc1 (Dense)                  (None, 4096)              102764544 \n",
      "_________________________________________________________________\n",
      "fc2 (Dense)                  (None, 4096)              16781312  \n",
      "_________________________________________________________________\n",
      "predictions (Dense)          (None, 1000)              4097000   \n",
      "=================================================================\n",
      "Total params: 138,357,544\n",
      "Trainable params: 138,357,544\n",
      "Non-trainable params: 0\n",
      "_________________________________________________________________\n"
     ]
    }
   ],
   "source": [
    "vgg.summary()"
   ]
  },
  {
   "cell_type": "markdown",
   "id": "ecadd19e",
   "metadata": {},
   "source": [
    "As we know from above Vgg16 is functional model and to cut the model last layer and than\n",
    "\n",
    "adding its whole layer to our last layer we need to convert it to Sequential model\n",
    "\n",
    "Checking and cutting Vgg16 last layer by running for loop"
   ]
  },
  {
   "cell_type": "code",
   "execution_count": 4,
   "id": "3558ae63",
   "metadata": {},
   "outputs": [
    {
     "name": "stdout",
     "output_type": "stream",
     "text": [
      "InputLayer\n",
      "Conv2D\n",
      "Conv2D\n",
      "MaxPooling2D\n",
      "Conv2D\n",
      "Conv2D\n",
      "MaxPooling2D\n",
      "Conv2D\n",
      "Conv2D\n",
      "Conv2D\n",
      "MaxPooling2D\n",
      "Conv2D\n",
      "Conv2D\n",
      "Conv2D\n",
      "MaxPooling2D\n",
      "Conv2D\n",
      "Conv2D\n",
      "Conv2D\n",
      "MaxPooling2D\n",
      "Flatten\n",
      "Dense\n",
      "Dense\n"
     ]
    }
   ],
   "source": [
    "for layer in vgg.layers[:-1]:\n",
    "    print(layer.__class__.__name__)"
   ]
  },
  {
   "cell_type": "markdown",
   "id": "2a209221",
   "metadata": {},
   "source": [
    "now we can see last layer removed\n",
    "\n",
    "now we removed last layer so we add this to our sequential layer for ladding our last layer\n",
    "\n",
    "same as we added earlier in our sequential layer but this we add ready made layer with our last layer made by us"
   ]
  },
  {
   "cell_type": "code",
   "execution_count": 5,
   "id": "b31dbb2a",
   "metadata": {},
   "outputs": [],
   "source": [
    "model = Sequential()"
   ]
  },
  {
   "cell_type": "markdown",
   "id": "54414b10",
   "metadata": {},
   "source": [
    "Converting functional layer to Sequential layer"
   ]
  },
  {
   "cell_type": "code",
   "execution_count": 6,
   "id": "f35db969",
   "metadata": {},
   "outputs": [],
   "source": [
    "for layer in vgg.layers[:-1]:\n",
    "    model.add(layer)"
   ]
  },
  {
   "cell_type": "code",
   "execution_count": 7,
   "id": "4b7c468d",
   "metadata": {},
   "outputs": [
    {
     "name": "stdout",
     "output_type": "stream",
     "text": [
      "Model: \"sequential\"\n",
      "_________________________________________________________________\n",
      "Layer (type)                 Output Shape              Param #   \n",
      "=================================================================\n",
      "block1_conv1 (Conv2D)        (None, 224, 224, 64)      1792      \n",
      "_________________________________________________________________\n",
      "block1_conv2 (Conv2D)        (None, 224, 224, 64)      36928     \n",
      "_________________________________________________________________\n",
      "block1_pool (MaxPooling2D)   (None, 112, 112, 64)      0         \n",
      "_________________________________________________________________\n",
      "block2_conv1 (Conv2D)        (None, 112, 112, 128)     73856     \n",
      "_________________________________________________________________\n",
      "block2_conv2 (Conv2D)        (None, 112, 112, 128)     147584    \n",
      "_________________________________________________________________\n",
      "block2_pool (MaxPooling2D)   (None, 56, 56, 128)       0         \n",
      "_________________________________________________________________\n",
      "block3_conv1 (Conv2D)        (None, 56, 56, 256)       295168    \n",
      "_________________________________________________________________\n",
      "block3_conv2 (Conv2D)        (None, 56, 56, 256)       590080    \n",
      "_________________________________________________________________\n",
      "block3_conv3 (Conv2D)        (None, 56, 56, 256)       590080    \n",
      "_________________________________________________________________\n",
      "block3_pool (MaxPooling2D)   (None, 28, 28, 256)       0         \n",
      "_________________________________________________________________\n",
      "block4_conv1 (Conv2D)        (None, 28, 28, 512)       1180160   \n",
      "_________________________________________________________________\n",
      "block4_conv2 (Conv2D)        (None, 28, 28, 512)       2359808   \n",
      "_________________________________________________________________\n",
      "block4_conv3 (Conv2D)        (None, 28, 28, 512)       2359808   \n",
      "_________________________________________________________________\n",
      "block4_pool (MaxPooling2D)   (None, 14, 14, 512)       0         \n",
      "_________________________________________________________________\n",
      "block5_conv1 (Conv2D)        (None, 14, 14, 512)       2359808   \n",
      "_________________________________________________________________\n",
      "block5_conv2 (Conv2D)        (None, 14, 14, 512)       2359808   \n",
      "_________________________________________________________________\n",
      "block5_conv3 (Conv2D)        (None, 14, 14, 512)       2359808   \n",
      "_________________________________________________________________\n",
      "block5_pool (MaxPooling2D)   (None, 7, 7, 512)         0         \n",
      "_________________________________________________________________\n",
      "flatten (Flatten)            (None, 25088)             0         \n",
      "_________________________________________________________________\n",
      "fc1 (Dense)                  (None, 4096)              102764544 \n",
      "_________________________________________________________________\n",
      "fc2 (Dense)                  (None, 4096)              16781312  \n",
      "=================================================================\n",
      "Total params: 134,260,544\n",
      "Trainable params: 134,260,544\n",
      "Non-trainable params: 0\n",
      "_________________________________________________________________\n"
     ]
    }
   ],
   "source": [
    "model.summary()"
   ]
  },
  {
   "cell_type": "markdown",
   "id": "504eb372",
   "metadata": {},
   "source": [
    "Now we can see last layer removed and model converted to Sequential\n",
    "\n",
    "now we will freeze our layers because we don't want to change the weight durning \n",
    "\n",
    "backpropagation of our reday made layer(vgg16) we added"
   ]
  },
  {
   "cell_type": "code",
   "execution_count": 8,
   "id": "8d008704",
   "metadata": {},
   "outputs": [],
   "source": [
    "# freezing all layers\n",
    "for layer in model.layers:\n",
    "    layer.trainable = False"
   ]
  },
  {
   "cell_type": "code",
   "execution_count": 9,
   "id": "5b14ef25",
   "metadata": {},
   "outputs": [
    {
     "name": "stdout",
     "output_type": "stream",
     "text": [
      "Model: \"sequential\"\n",
      "_________________________________________________________________\n",
      "Layer (type)                 Output Shape              Param #   \n",
      "=================================================================\n",
      "block1_conv1 (Conv2D)        (None, 224, 224, 64)      1792      \n",
      "_________________________________________________________________\n",
      "block1_conv2 (Conv2D)        (None, 224, 224, 64)      36928     \n",
      "_________________________________________________________________\n",
      "block1_pool (MaxPooling2D)   (None, 112, 112, 64)      0         \n",
      "_________________________________________________________________\n",
      "block2_conv1 (Conv2D)        (None, 112, 112, 128)     73856     \n",
      "_________________________________________________________________\n",
      "block2_conv2 (Conv2D)        (None, 112, 112, 128)     147584    \n",
      "_________________________________________________________________\n",
      "block2_pool (MaxPooling2D)   (None, 56, 56, 128)       0         \n",
      "_________________________________________________________________\n",
      "block3_conv1 (Conv2D)        (None, 56, 56, 256)       295168    \n",
      "_________________________________________________________________\n",
      "block3_conv2 (Conv2D)        (None, 56, 56, 256)       590080    \n",
      "_________________________________________________________________\n",
      "block3_conv3 (Conv2D)        (None, 56, 56, 256)       590080    \n",
      "_________________________________________________________________\n",
      "block3_pool (MaxPooling2D)   (None, 28, 28, 256)       0         \n",
      "_________________________________________________________________\n",
      "block4_conv1 (Conv2D)        (None, 28, 28, 512)       1180160   \n",
      "_________________________________________________________________\n",
      "block4_conv2 (Conv2D)        (None, 28, 28, 512)       2359808   \n",
      "_________________________________________________________________\n",
      "block4_conv3 (Conv2D)        (None, 28, 28, 512)       2359808   \n",
      "_________________________________________________________________\n",
      "block4_pool (MaxPooling2D)   (None, 14, 14, 512)       0         \n",
      "_________________________________________________________________\n",
      "block5_conv1 (Conv2D)        (None, 14, 14, 512)       2359808   \n",
      "_________________________________________________________________\n",
      "block5_conv2 (Conv2D)        (None, 14, 14, 512)       2359808   \n",
      "_________________________________________________________________\n",
      "block5_conv3 (Conv2D)        (None, 14, 14, 512)       2359808   \n",
      "_________________________________________________________________\n",
      "block5_pool (MaxPooling2D)   (None, 7, 7, 512)         0         \n",
      "_________________________________________________________________\n",
      "flatten (Flatten)            (None, 25088)             0         \n",
      "_________________________________________________________________\n",
      "fc1 (Dense)                  (None, 4096)              102764544 \n",
      "_________________________________________________________________\n",
      "fc2 (Dense)                  (None, 4096)              16781312  \n",
      "=================================================================\n",
      "Total params: 134,260,544\n",
      "Trainable params: 0\n",
      "Non-trainable params: 134,260,544\n",
      "_________________________________________________________________\n"
     ]
    }
   ],
   "source": [
    "model.summary()"
   ]
  },
  {
   "cell_type": "markdown",
   "id": "7e5b0a68",
   "metadata": {},
   "source": [
    "As we can now see model is freeze and there is no trainable parameters in model summary\n",
    "\n",
    "Adding last dense layer with only one node"
   ]
  },
  {
   "cell_type": "code",
   "execution_count": 10,
   "id": "d1c6241b",
   "metadata": {},
   "outputs": [],
   "source": [
    "model.add(Dense(2))\n",
    "model.add(Activation('softmax'))"
   ]
  },
  {
   "cell_type": "code",
   "execution_count": 11,
   "id": "6b592165",
   "metadata": {},
   "outputs": [
    {
     "name": "stdout",
     "output_type": "stream",
     "text": [
      "Model: \"sequential\"\n",
      "_________________________________________________________________\n",
      "Layer (type)                 Output Shape              Param #   \n",
      "=================================================================\n",
      "block1_conv1 (Conv2D)        (None, 224, 224, 64)      1792      \n",
      "_________________________________________________________________\n",
      "block1_conv2 (Conv2D)        (None, 224, 224, 64)      36928     \n",
      "_________________________________________________________________\n",
      "block1_pool (MaxPooling2D)   (None, 112, 112, 64)      0         \n",
      "_________________________________________________________________\n",
      "block2_conv1 (Conv2D)        (None, 112, 112, 128)     73856     \n",
      "_________________________________________________________________\n",
      "block2_conv2 (Conv2D)        (None, 112, 112, 128)     147584    \n",
      "_________________________________________________________________\n",
      "block2_pool (MaxPooling2D)   (None, 56, 56, 128)       0         \n",
      "_________________________________________________________________\n",
      "block3_conv1 (Conv2D)        (None, 56, 56, 256)       295168    \n",
      "_________________________________________________________________\n",
      "block3_conv2 (Conv2D)        (None, 56, 56, 256)       590080    \n",
      "_________________________________________________________________\n",
      "block3_conv3 (Conv2D)        (None, 56, 56, 256)       590080    \n",
      "_________________________________________________________________\n",
      "block3_pool (MaxPooling2D)   (None, 28, 28, 256)       0         \n",
      "_________________________________________________________________\n",
      "block4_conv1 (Conv2D)        (None, 28, 28, 512)       1180160   \n",
      "_________________________________________________________________\n",
      "block4_conv2 (Conv2D)        (None, 28, 28, 512)       2359808   \n",
      "_________________________________________________________________\n",
      "block4_conv3 (Conv2D)        (None, 28, 28, 512)       2359808   \n",
      "_________________________________________________________________\n",
      "block4_pool (MaxPooling2D)   (None, 14, 14, 512)       0         \n",
      "_________________________________________________________________\n",
      "block5_conv1 (Conv2D)        (None, 14, 14, 512)       2359808   \n",
      "_________________________________________________________________\n",
      "block5_conv2 (Conv2D)        (None, 14, 14, 512)       2359808   \n",
      "_________________________________________________________________\n",
      "block5_conv3 (Conv2D)        (None, 14, 14, 512)       2359808   \n",
      "_________________________________________________________________\n",
      "block5_pool (MaxPooling2D)   (None, 7, 7, 512)         0         \n",
      "_________________________________________________________________\n",
      "flatten (Flatten)            (None, 25088)             0         \n",
      "_________________________________________________________________\n",
      "fc1 (Dense)                  (None, 4096)              102764544 \n",
      "_________________________________________________________________\n",
      "fc2 (Dense)                  (None, 4096)              16781312  \n",
      "_________________________________________________________________\n",
      "dense (Dense)                (None, 2)                 8194      \n",
      "_________________________________________________________________\n",
      "activation (Activation)      (None, 2)                 0         \n",
      "=================================================================\n",
      "Total params: 134,268,738\n",
      "Trainable params: 8,194\n",
      "Non-trainable params: 134,260,544\n",
      "_________________________________________________________________\n"
     ]
    }
   ],
   "source": [
    "model.summary()"
   ]
  },
  {
   "cell_type": "code",
   "execution_count": 12,
   "id": "c656849e",
   "metadata": {},
   "outputs": [],
   "source": [
    "model.compile(loss='binary_crossentropy', optimizer='adam', metrics=['accuracy'])"
   ]
  },
  {
   "cell_type": "code",
   "execution_count": 13,
   "id": "a3005c8a",
   "metadata": {},
   "outputs": [],
   "source": [
    "training_path = r'C:\\Users\\sonuc\\Desktop\\Data_Science\\Malaria_detection\\Malaria Cells\\training_set'\n",
    "testing_path = r'C:\\Users\\sonuc\\Desktop\\Data_Science\\Malaria_detection\\Malaria Cells\\testing_set'"
   ]
  },
  {
   "cell_type": "code",
   "execution_count": 16,
   "id": "65f1b48e",
   "metadata": {},
   "outputs": [
    {
     "name": "stdout",
     "output_type": "stream",
     "text": [
      "Found 27558 images belonging to 2 classes.\n",
      "Found 15832 images belonging to 2 classes.\n"
     ]
    }
   ],
   "source": [
    "batch_size = 10 \n",
    "\n",
    "# this is the augmentation configuration we will use for training\n",
    "train_datagen = ImageDataGenerator(rescale=1.0/255,\n",
    "                                   rotation_range=40,\n",
    "                                   width_shift_range=0.2,\n",
    "                                   height_shift_range=0.2,\n",
    "                                   shear_range=0.2,\n",
    "                                   zoom_range=0.2,\n",
    "                                   horizontal_flip=True,\n",
    "                                   fill_mode='nearest')\n",
    "\n",
    "# this is the augmentation configuration we will use for testing:\n",
    "# only rescaling\n",
    "test_datagen = ImageDataGenerator(rescale=1./255)\n",
    "\n",
    "# this is a generator that will read pictures found in\n",
    "# subfolers of 'data/train', and indefinitely generate\n",
    "# batches of augmented image data \n",
    "train_generator = train_datagen.flow_from_directory(\n",
    "        training_path,  # this is the target directory\n",
    "        target_size=(224, 224),  # all images will be resized to 150x150\n",
    "        batch_size=batch_size)\n",
    "        #class_mode='binary')  # since we use binary_crossentropy loss, we need binary labels\n",
    "\n",
    "# this is a similar generator, for validation data\n",
    "validation_generator = test_datagen.flow_from_directory(\n",
    "        testing_path,\n",
    "        target_size=(224, 224),\n",
    "        batch_size=batch_size)#,\n",
    "        #class_mode='binary')"
   ]
  },
  {
   "cell_type": "code",
   "execution_count": 17,
   "id": "5eac93bf",
   "metadata": {},
   "outputs": [
    {
     "name": "stdout",
     "output_type": "stream",
     "text": [
      "Epoch 1/50\n",
      "200/200 [==============================] - 32s 144ms/step - loss: 0.6737 - accuracy: 0.6005 - val_loss: 0.5516 - val_accuracy: 0.7837\n",
      "Epoch 2/50\n",
      "200/200 [==============================] - 32s 160ms/step - loss: 0.5619 - accuracy: 0.7097 - val_loss: 0.6898 - val_accuracy: 0.5562\n",
      "Epoch 3/50\n",
      "200/200 [==============================] - 29s 145ms/step - loss: 0.5315 - accuracy: 0.7370 - val_loss: 0.5495 - val_accuracy: 0.6675\n",
      "Epoch 4/50\n",
      "200/200 [==============================] - 29s 146ms/step - loss: 0.4729 - accuracy: 0.8015 - val_loss: 0.4210 - val_accuracy: 0.8400\n",
      "Epoch 5/50\n",
      "200/200 [==============================] - 29s 146ms/step - loss: 0.4838 - accuracy: 0.7670 - val_loss: 0.5187 - val_accuracy: 0.7150\n",
      "Epoch 6/50\n",
      "200/200 [==============================] - 29s 146ms/step - loss: 0.4655 - accuracy: 0.7810 - val_loss: 0.4305 - val_accuracy: 0.7912\n",
      "Epoch 7/50\n",
      "200/200 [==============================] - 29s 146ms/step - loss: 0.4410 - accuracy: 0.8110 - val_loss: 0.5435 - val_accuracy: 0.6888\n",
      "Epoch 8/50\n",
      "200/200 [==============================] - 29s 146ms/step - loss: 0.4449 - accuracy: 0.7980 - val_loss: 0.4023 - val_accuracy: 0.8675\n",
      "Epoch 9/50\n",
      "200/200 [==============================] - 29s 146ms/step - loss: 0.4479 - accuracy: 0.8010 - val_loss: 0.3879 - val_accuracy: 0.8562\n",
      "Epoch 10/50\n",
      "200/200 [==============================] - 33s 163ms/step - loss: 0.4513 - accuracy: 0.7935 - val_loss: 0.4629 - val_accuracy: 0.7663\n",
      "Epoch 11/50\n",
      "200/200 [==============================] - 29s 146ms/step - loss: 0.4344 - accuracy: 0.8000 - val_loss: 0.3818 - val_accuracy: 0.8600\n",
      "Epoch 12/50\n",
      "200/200 [==============================] - 29s 147ms/step - loss: 0.4200 - accuracy: 0.8100 - val_loss: 0.3792 - val_accuracy: 0.8612\n",
      "Epoch 13/50\n",
      "200/200 [==============================] - 33s 163ms/step - loss: 0.4182 - accuracy: 0.8125 - val_loss: 0.3935 - val_accuracy: 0.8200\n",
      "Epoch 14/50\n",
      "200/200 [==============================] - 29s 147ms/step - loss: 0.4013 - accuracy: 0.8238 - val_loss: 0.4047 - val_accuracy: 0.8388\n",
      "Epoch 15/50\n",
      "200/200 [==============================] - 29s 147ms/step - loss: 0.4199 - accuracy: 0.8165 - val_loss: 0.5812 - val_accuracy: 0.7050\n",
      "Epoch 16/50\n",
      "200/200 [==============================] - 36s 179ms/step - loss: 0.4151 - accuracy: 0.8200 - val_loss: 0.3739 - val_accuracy: 0.8500\n",
      "Epoch 17/50\n",
      "200/200 [==============================] - 29s 147ms/step - loss: 0.3850 - accuracy: 0.8330 - val_loss: 0.3891 - val_accuracy: 0.8238\n",
      "Epoch 18/50\n",
      "200/200 [==============================] - 29s 147ms/step - loss: 0.4109 - accuracy: 0.8185 - val_loss: 0.6331 - val_accuracy: 0.6725\n",
      "Epoch 19/50\n",
      "200/200 [==============================] - 30s 147ms/step - loss: 0.4292 - accuracy: 0.7930 - val_loss: 0.5802 - val_accuracy: 0.7075\n",
      "Epoch 20/50\n",
      "200/200 [==============================] - 30s 147ms/step - loss: 0.4078 - accuracy: 0.8300 - val_loss: 0.3580 - val_accuracy: 0.8662\n",
      "Epoch 21/50\n",
      "200/200 [==============================] - 34s 168ms/step - loss: 0.4249 - accuracy: 0.8130 - val_loss: 0.4261 - val_accuracy: 0.8000\n",
      "Epoch 22/50\n",
      "200/200 [==============================] - 36s 180ms/step - loss: 0.3911 - accuracy: 0.8345 - val_loss: 0.5235 - val_accuracy: 0.7412\n",
      "Epoch 23/50\n",
      "200/200 [==============================] - 29s 147ms/step - loss: 0.3985 - accuracy: 0.8175 - val_loss: 0.3693 - val_accuracy: 0.8612\n",
      "Epoch 24/50\n",
      "200/200 [==============================] - 30s 147ms/step - loss: 0.3870 - accuracy: 0.8310 - val_loss: 0.3442 - val_accuracy: 0.8875\n",
      "Epoch 25/50\n",
      "200/200 [==============================] - 33s 164ms/step - loss: 0.3857 - accuracy: 0.8325 - val_loss: 0.4689 - val_accuracy: 0.7750\n",
      "Epoch 26/50\n",
      "200/200 [==============================] - 30s 147ms/step - loss: 0.4023 - accuracy: 0.8145 - val_loss: 0.4924 - val_accuracy: 0.7575\n",
      "Epoch 27/50\n",
      "200/200 [==============================] - 33s 164ms/step - loss: 0.3864 - accuracy: 0.8358 - val_loss: 0.3493 - val_accuracy: 0.8675\n",
      "Epoch 28/50\n",
      "200/200 [==============================] - 30s 148ms/step - loss: 0.4139 - accuracy: 0.8155 - val_loss: 0.3475 - val_accuracy: 0.8600\n",
      "Epoch 29/50\n",
      "200/200 [==============================] - 30s 148ms/step - loss: 0.4117 - accuracy: 0.8175 - val_loss: 0.4093 - val_accuracy: 0.8075\n",
      "Epoch 30/50\n",
      "200/200 [==============================] - 36s 181ms/step - loss: 0.3654 - accuracy: 0.8410 - val_loss: 0.4065 - val_accuracy: 0.8150\n",
      "Epoch 31/50\n",
      "200/200 [==============================] - 33s 164ms/step - loss: 0.3788 - accuracy: 0.8425 - val_loss: 0.4700 - val_accuracy: 0.7738\n",
      "Epoch 32/50\n",
      "200/200 [==============================] - 30s 148ms/step - loss: 0.3725 - accuracy: 0.8483 - val_loss: 0.3141 - val_accuracy: 0.8950\n",
      "Epoch 33/50\n",
      "200/200 [==============================] - 30s 148ms/step - loss: 0.3993 - accuracy: 0.8250 - val_loss: 0.3549 - val_accuracy: 0.8750\n",
      "Epoch 34/50\n",
      "200/200 [==============================] - 36s 180ms/step - loss: 0.3982 - accuracy: 0.8330 - val_loss: 0.3428 - val_accuracy: 0.8675\n",
      "Epoch 35/50\n",
      "200/200 [==============================] - 30s 148ms/step - loss: 0.3864 - accuracy: 0.8255 - val_loss: 0.3405 - val_accuracy: 0.8687\n",
      "Epoch 36/50\n",
      "200/200 [==============================] - 33s 164ms/step - loss: 0.3864 - accuracy: 0.8330 - val_loss: 0.3206 - val_accuracy: 0.8825\n",
      "Epoch 37/50\n",
      "200/200 [==============================] - 36s 180ms/step - loss: 0.3966 - accuracy: 0.8325 - val_loss: 0.4460 - val_accuracy: 0.7862\n",
      "Epoch 38/50\n",
      "200/200 [==============================] - 30s 148ms/step - loss: 0.3525 - accuracy: 0.8575 - val_loss: 0.3766 - val_accuracy: 0.8450\n",
      "Epoch 39/50\n",
      "200/200 [==============================] - 33s 164ms/step - loss: 0.3774 - accuracy: 0.8365 - val_loss: 0.5420 - val_accuracy: 0.7487\n",
      "Epoch 40/50\n",
      "200/200 [==============================] - 33s 164ms/step - loss: 0.3457 - accuracy: 0.8580 - val_loss: 0.3406 - val_accuracy: 0.8525\n",
      "Epoch 41/50\n",
      "200/200 [==============================] - 30s 148ms/step - loss: 0.3782 - accuracy: 0.8463 - val_loss: 0.3690 - val_accuracy: 0.8425\n",
      "Epoch 42/50\n",
      "200/200 [==============================] - 36s 180ms/step - loss: 0.3719 - accuracy: 0.8358 - val_loss: 0.3100 - val_accuracy: 0.8875\n",
      "Epoch 43/50\n",
      "200/200 [==============================] - 33s 164ms/step - loss: 0.3548 - accuracy: 0.8500 - val_loss: 0.3327 - val_accuracy: 0.8650\n",
      "Epoch 44/50\n",
      "200/200 [==============================] - 30s 148ms/step - loss: 0.3561 - accuracy: 0.8465 - val_loss: 0.2759 - val_accuracy: 0.9038\n",
      "Epoch 45/50\n",
      "200/200 [==============================] - 33s 164ms/step - loss: 0.3654 - accuracy: 0.8385 - val_loss: 0.4142 - val_accuracy: 0.7950\n",
      "Epoch 46/50\n",
      "200/200 [==============================] - 33s 164ms/step - loss: 0.3793 - accuracy: 0.8450 - val_loss: 0.3271 - val_accuracy: 0.8763\n",
      "Epoch 47/50\n",
      "200/200 [==============================] - 33s 164ms/step - loss: 0.3686 - accuracy: 0.8435 - val_loss: 0.3105 - val_accuracy: 0.8775\n",
      "Epoch 48/50\n",
      "200/200 [==============================] - 30s 148ms/step - loss: 0.3258 - accuracy: 0.8675 - val_loss: 0.3384 - val_accuracy: 0.8850\n",
      "Epoch 49/50\n",
      "200/200 [==============================] - 33s 164ms/step - loss: 0.3848 - accuracy: 0.8315 - val_loss: 0.3601 - val_accuracy: 0.8275\n",
      "Epoch 50/50\n",
      "200/200 [==============================] - 30s 148ms/step - loss: 0.3816 - accuracy: 0.8363 - val_loss: 0.3327 - val_accuracy: 0.8800\n"
     ]
    }
   ],
   "source": [
    "model.fit(\n",
    "        train_generator,\n",
    "        steps_per_epoch=2000 // batch_size,\n",
    "        epochs=50,\n",
    "        validation_data=validation_generator,\n",
    "        validation_steps=800 // batch_size)\n",
    "\n",
    "model.save('malaria_detect_vvg16.h5')  # always save your weights after training or during training"
   ]
  },
  {
   "cell_type": "code",
   "execution_count": 20,
   "id": "20039b58",
   "metadata": {},
   "outputs": [],
   "source": [
    "model = load_model('malaria_detect_vvg16.h5') "
   ]
  },
  {
   "cell_type": "code",
   "execution_count": 28,
   "id": "6b475a39",
   "metadata": {},
   "outputs": [
    {
     "data": {
      "text/plain": [
       "'C:\\\\Users\\\\sonuc\\\\Desktop\\\\Data_Science\\\\Malaria_detection\\\\Malaria Cells\\\\single_prediction\\\\Uninfected.png'"
      ]
     },
     "execution_count": 28,
     "metadata": {},
     "output_type": "execute_result"
    }
   ],
   "source": [
    "image_path = r'C:\\Users\\sonuc\\Desktop\\Data_Science\\Malaria_detection\\Malaria Cells\\single_prediction\\Uninfected.png'\n",
    "image_path"
   ]
  },
  {
   "cell_type": "code",
   "execution_count": 29,
   "id": "0a492ea9",
   "metadata": {},
   "outputs": [
    {
     "name": "stdout",
     "output_type": "stream",
     "text": [
      "Uninfected\n"
     ]
    }
   ],
   "source": [
    "user_img = image.load_img(image_path,target_size = (224,224))\n",
    "user_img = image.img_to_array(user_img)\n",
    "user_img = user_img.reshape(1, 224, 224, 3)\n",
    "\n",
    "\n",
    "x = (model.predict(user_img) > 0.5).astype(\"int32\")\n",
    "#print(x)\n",
    "if(x[0][0]== 0):      \n",
    "    label = 'Uninfected'\n",
    "    print(label)\n",
    "else:\n",
    "    label = 'Parasitised'\n",
    "    print(label)"
   ]
  },
  {
   "cell_type": "code",
   "execution_count": null,
   "id": "4efce4e0",
   "metadata": {},
   "outputs": [],
   "source": []
  }
 ],
 "metadata": {
  "kernelspec": {
   "display_name": "Python 3",
   "language": "python",
   "name": "python3"
  },
  "language_info": {
   "codemirror_mode": {
    "name": "ipython",
    "version": 3
   },
   "file_extension": ".py",
   "mimetype": "text/x-python",
   "name": "python",
   "nbconvert_exporter": "python",
   "pygments_lexer": "ipython3",
   "version": "3.8.8"
  }
 },
 "nbformat": 4,
 "nbformat_minor": 5
}

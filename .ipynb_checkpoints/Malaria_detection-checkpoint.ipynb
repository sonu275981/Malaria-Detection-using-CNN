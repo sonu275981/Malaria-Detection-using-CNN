{
 "cells": [
  {
   "cell_type": "code",
   "execution_count": 12,
   "id": "6f943000",
   "metadata": {},
   "outputs": [],
   "source": [
    "from keras.preprocessing import image\n",
    "from keras.preprocessing.image import ImageDataGenerator,load_img\n",
    "import matplotlib.pyplot as plt\n",
    "from keras.models import Sequential\n",
    "from keras.layers import Conv2D, MaxPooling2D\n",
    "from keras.layers import Activation, Dropout, Flatten, Dense\n",
    "import PIL\n",
    "from keras.models import load_model\n",
    "import cv2\n",
    "import numpy as np \n",
    "import os"
   ]
  },
  {
   "cell_type": "code",
   "execution_count": 2,
   "id": "668d624e",
   "metadata": {},
   "outputs": [],
   "source": [
    "model = Sequential()\n",
    "model.add(Conv2D(32, (3, 3), input_shape=(150, 150, 3), padding='same'))\n",
    "model.add(Activation('relu'))\n",
    "model.add(MaxPooling2D(pool_size=(2, 2)))\n",
    "\n",
    "model.add(Conv2D(64, (3, 3), padding='same'))\n",
    "model.add(Activation('relu'))\n",
    "model.add(MaxPooling2D(pool_size=(2, 2)))\n",
    "\n",
    "model.add(Conv2D(128, (3, 3), padding='same'))\n",
    "model.add(Activation('relu'))\n",
    "model.add(MaxPooling2D(pool_size=(2, 2)))"
   ]
  },
  {
   "cell_type": "code",
   "execution_count": 3,
   "id": "dca3ddd5",
   "metadata": {},
   "outputs": [],
   "source": [
    "model.add(Flatten())  # this converts our 3D feature maps to 1D feature vectors\n",
    "model.add(Dense(64))\n",
    "model.add(Activation('relu'))\n",
    "model.add(Dropout(0.5))\n",
    "model.add(Dense(2))\n",
    "model.add(Activation('softmax'))\n",
    "\n",
    "model.compile(loss='binary_crossentropy', optimizer='adam', metrics=['accuracy'])"
   ]
  },
  {
   "cell_type": "code",
   "execution_count": 18,
   "id": "b585c8ff",
   "metadata": {},
   "outputs": [],
   "source": [
    "training_path = r'C:\\Users\\sonuc\\Desktop\\Data_Science\\Malaria_detection\\Malaria Cells\\training_set'\n",
    "testing_path = r'C:\\Users\\sonuc\\Desktop\\Data_Science\\Malaria_detection\\Malaria Cells\\testing_set'"
   ]
  },
  {
   "cell_type": "code",
   "execution_count": 21,
   "id": "a99d45d8",
   "metadata": {},
   "outputs": [
    {
     "name": "stdout",
     "output_type": "stream",
     "text": [
      "Found 27558 images belonging to 2 classes.\n",
      "Found 15832 images belonging to 2 classes.\n"
     ]
    }
   ],
   "source": [
    "batch_size = 10 \n",
    "\n",
    "# this is the augmentation configuration we will use for training\n",
    "train_datagen = ImageDataGenerator(rescale=1.0/255,\n",
    "                                   rotation_range=40,\n",
    "                                   width_shift_range=0.2,\n",
    "                                   height_shift_range=0.2,\n",
    "                                   shear_range=0.2,\n",
    "                                   zoom_range=0.2,\n",
    "                                   horizontal_flip=True,\n",
    "                                   fill_mode='nearest')\n",
    "\n",
    "# this is the augmentation configuration we will use for testing:\n",
    "# only rescaling\n",
    "test_datagen = ImageDataGenerator(rescale=1./255)\n",
    "\n",
    "# this is a generator that will read pictures found in\n",
    "# subfolers of 'data/train', and indefinitely generate\n",
    "# batches of augmented image data \n",
    "train_generator = train_datagen.flow_from_directory(\n",
    "        training_path,  # this is the target directory\n",
    "        target_size=(150, 150),  # all images will be resized to 150x150\n",
    "        batch_size=batch_size)\n",
    "        #class_mode='binary')  # since we use binary_crossentropy loss, we need binary labels\n",
    "\n",
    "# this is a similar generator, for validation data\n",
    "validation_generator = test_datagen.flow_from_directory(\n",
    "        testing_path,\n",
    "        target_size=(150, 150),\n",
    "        batch_size=batch_size)#,\n",
    "        #class_mode='binary')"
   ]
  },
  {
   "cell_type": "code",
   "execution_count": 23,
   "id": "798c1f4b",
   "metadata": {},
   "outputs": [
    {
     "name": "stdout",
     "output_type": "stream",
     "text": [
      "Epoch 1/50\n",
      "200/200 [==============================] - 11s 54ms/step - loss: 0.3659 - accuracy: 0.8755 - val_loss: 0.6373 - val_accuracy: 0.6237\n",
      "Epoch 2/50\n",
      "200/200 [==============================] - 11s 54ms/step - loss: 0.3525 - accuracy: 0.8770 - val_loss: 0.1608 - val_accuracy: 0.9362\n",
      "Epoch 3/50\n",
      "200/200 [==============================] - 11s 54ms/step - loss: 0.3154 - accuracy: 0.9005 - val_loss: 0.1966 - val_accuracy: 0.9300\n",
      "Epoch 4/50\n",
      "200/200 [==============================] - 11s 54ms/step - loss: 0.3516 - accuracy: 0.8680 - val_loss: 0.1593 - val_accuracy: 0.9513\n",
      "Epoch 5/50\n",
      "200/200 [==============================] - 11s 54ms/step - loss: 0.2631 - accuracy: 0.9205 - val_loss: 0.1582 - val_accuracy: 0.9488\n",
      "Epoch 6/50\n",
      "200/200 [==============================] - 11s 54ms/step - loss: 0.2649 - accuracy: 0.9240 - val_loss: 0.2193 - val_accuracy: 0.9075\n",
      "Epoch 7/50\n",
      "200/200 [==============================] - 11s 54ms/step - loss: 0.2414 - accuracy: 0.9210 - val_loss: 0.1771 - val_accuracy: 0.9375\n",
      "Epoch 8/50\n",
      "200/200 [==============================] - 11s 54ms/step - loss: 0.3503 - accuracy: 0.9060 - val_loss: 0.1964 - val_accuracy: 0.9400\n",
      "Epoch 9/50\n",
      "200/200 [==============================] - 11s 54ms/step - loss: 0.2690 - accuracy: 0.9110 - val_loss: 0.2996 - val_accuracy: 0.9075\n",
      "Epoch 10/50\n",
      "200/200 [==============================] - 11s 54ms/step - loss: 0.2490 - accuracy: 0.9210 - val_loss: 0.2141 - val_accuracy: 0.9413\n",
      "Epoch 11/50\n",
      "200/200 [==============================] - 11s 53ms/step - loss: 0.2913 - accuracy: 0.9115 - val_loss: 0.1941 - val_accuracy: 0.9400\n",
      "Epoch 12/50\n",
      "200/200 [==============================] - 11s 53ms/step - loss: 0.2433 - accuracy: 0.9229 - val_loss: 0.1868 - val_accuracy: 0.9463\n",
      "Epoch 13/50\n",
      "200/200 [==============================] - 11s 54ms/step - loss: 0.2477 - accuracy: 0.9200 - val_loss: 0.1653 - val_accuracy: 0.9475\n",
      "Epoch 14/50\n",
      "200/200 [==============================] - 11s 53ms/step - loss: 0.2664 - accuracy: 0.9190 - val_loss: 0.1938 - val_accuracy: 0.9337\n",
      "Epoch 15/50\n",
      "200/200 [==============================] - 11s 54ms/step - loss: 0.2340 - accuracy: 0.9155 - val_loss: 0.1735 - val_accuracy: 0.9425\n",
      "Epoch 16/50\n",
      "200/200 [==============================] - 11s 54ms/step - loss: 0.2551 - accuracy: 0.9295 - val_loss: 0.1845 - val_accuracy: 0.9413\n",
      "Epoch 17/50\n",
      "200/200 [==============================] - 11s 54ms/step - loss: 0.2440 - accuracy: 0.9245 - val_loss: 0.1524 - val_accuracy: 0.9513\n",
      "Epoch 18/50\n",
      "200/200 [==============================] - 11s 53ms/step - loss: 0.2442 - accuracy: 0.9195 - val_loss: 0.2027 - val_accuracy: 0.9413\n",
      "Epoch 19/50\n",
      "200/200 [==============================] - 11s 54ms/step - loss: 0.2578 - accuracy: 0.9205 - val_loss: 0.2503 - val_accuracy: 0.9287\n",
      "Epoch 20/50\n",
      "200/200 [==============================] - 11s 54ms/step - loss: 0.2620 - accuracy: 0.9165 - val_loss: 0.1553 - val_accuracy: 0.9413\n",
      "Epoch 21/50\n",
      "200/200 [==============================] - 11s 54ms/step - loss: 0.2653 - accuracy: 0.9195 - val_loss: 0.1986 - val_accuracy: 0.9375\n",
      "Epoch 22/50\n",
      "200/200 [==============================] - 11s 54ms/step - loss: 0.2544 - accuracy: 0.9180 - val_loss: 0.1381 - val_accuracy: 0.9575\n",
      "Epoch 23/50\n",
      "200/200 [==============================] - 11s 54ms/step - loss: 0.2338 - accuracy: 0.9270 - val_loss: 0.1788 - val_accuracy: 0.9362\n",
      "Epoch 24/50\n",
      "200/200 [==============================] - 11s 54ms/step - loss: 0.2760 - accuracy: 0.9155 - val_loss: 0.1809 - val_accuracy: 0.9475\n",
      "Epoch 25/50\n",
      "200/200 [==============================] - 11s 54ms/step - loss: 0.2054 - accuracy: 0.9340 - val_loss: 0.1675 - val_accuracy: 0.9513\n",
      "Epoch 26/50\n",
      "200/200 [==============================] - 11s 53ms/step - loss: 0.2474 - accuracy: 0.9200 - val_loss: 0.1899 - val_accuracy: 0.9287\n",
      "Epoch 27/50\n",
      "200/200 [==============================] - 11s 53ms/step - loss: 0.2471 - accuracy: 0.9235 - val_loss: 0.1822 - val_accuracy: 0.9400\n",
      "Epoch 28/50\n",
      "200/200 [==============================] - 11s 54ms/step - loss: 0.2438 - accuracy: 0.9205 - val_loss: 0.1585 - val_accuracy: 0.9463\n",
      "Epoch 29/50\n",
      "200/200 [==============================] - 11s 55ms/step - loss: 0.2105 - accuracy: 0.9365 - val_loss: 0.1541 - val_accuracy: 0.9575\n",
      "Epoch 30/50\n",
      "200/200 [==============================] - 11s 53ms/step - loss: 0.2245 - accuracy: 0.9274 - val_loss: 0.1517 - val_accuracy: 0.9525\n",
      "Epoch 31/50\n",
      "200/200 [==============================] - 11s 54ms/step - loss: 0.2210 - accuracy: 0.9350 - val_loss: 0.1372 - val_accuracy: 0.9550\n",
      "Epoch 32/50\n",
      "200/200 [==============================] - 11s 53ms/step - loss: 0.2425 - accuracy: 0.9185 - val_loss: 0.2004 - val_accuracy: 0.9450\n",
      "Epoch 33/50\n",
      "200/200 [==============================] - 11s 54ms/step - loss: 0.2416 - accuracy: 0.9195 - val_loss: 0.1610 - val_accuracy: 0.9525\n",
      "Epoch 34/50\n",
      "200/200 [==============================] - 11s 54ms/step - loss: 0.2468 - accuracy: 0.9225 - val_loss: 0.2060 - val_accuracy: 0.9337\n",
      "Epoch 35/50\n",
      "200/200 [==============================] - 11s 53ms/step - loss: 0.2232 - accuracy: 0.9320 - val_loss: 0.1338 - val_accuracy: 0.9588\n",
      "Epoch 36/50\n",
      "200/200 [==============================] - 11s 54ms/step - loss: 0.2349 - accuracy: 0.9235 - val_loss: 0.1581 - val_accuracy: 0.9525\n",
      "Epoch 37/50\n",
      "200/200 [==============================] - 11s 54ms/step - loss: 0.2203 - accuracy: 0.9334 - val_loss: 0.1191 - val_accuracy: 0.9663\n",
      "Epoch 38/50\n",
      "200/200 [==============================] - 11s 53ms/step - loss: 0.2263 - accuracy: 0.9260 - val_loss: 0.1739 - val_accuracy: 0.9425\n",
      "Epoch 39/50\n",
      "200/200 [==============================] - 11s 54ms/step - loss: 0.2299 - accuracy: 0.9280 - val_loss: 0.2067 - val_accuracy: 0.9312\n",
      "Epoch 40/50\n",
      "200/200 [==============================] - 11s 54ms/step - loss: 0.2053 - accuracy: 0.9345 - val_loss: 0.1888 - val_accuracy: 0.9450\n",
      "Epoch 41/50\n",
      "200/200 [==============================] - 11s 54ms/step - loss: 0.2249 - accuracy: 0.9275 - val_loss: 0.1540 - val_accuracy: 0.9513\n",
      "Epoch 42/50\n",
      "200/200 [==============================] - 11s 53ms/step - loss: 0.2328 - accuracy: 0.9255 - val_loss: 0.1590 - val_accuracy: 0.9500\n",
      "Epoch 43/50\n",
      "200/200 [==============================] - 11s 54ms/step - loss: 0.2223 - accuracy: 0.9280 - val_loss: 0.1685 - val_accuracy: 0.9513\n",
      "Epoch 44/50\n",
      "200/200 [==============================] - 11s 53ms/step - loss: 0.2159 - accuracy: 0.9334 - val_loss: 0.1443 - val_accuracy: 0.9513\n",
      "Epoch 45/50\n",
      "200/200 [==============================] - 11s 54ms/step - loss: 0.2194 - accuracy: 0.9315 - val_loss: 0.1737 - val_accuracy: 0.9413\n",
      "Epoch 46/50\n",
      "200/200 [==============================] - 11s 54ms/step - loss: 0.2542 - accuracy: 0.9200 - val_loss: 0.1591 - val_accuracy: 0.9513\n",
      "Epoch 47/50\n",
      "200/200 [==============================] - 11s 53ms/step - loss: 0.2394 - accuracy: 0.9230 - val_loss: 0.1810 - val_accuracy: 0.9425\n",
      "Epoch 48/50\n",
      "200/200 [==============================] - 11s 53ms/step - loss: 0.2412 - accuracy: 0.9245 - val_loss: 0.1476 - val_accuracy: 0.9525\n",
      "Epoch 49/50\n",
      "200/200 [==============================] - 11s 54ms/step - loss: 0.2135 - accuracy: 0.9305 - val_loss: 0.1543 - val_accuracy: 0.9550\n",
      "Epoch 50/50\n",
      "200/200 [==============================] - 11s 53ms/step - loss: 0.2193 - accuracy: 0.9265 - val_loss: 0.1532 - val_accuracy: 0.9500\n"
     ]
    }
   ],
   "source": [
    "model.fit(\n",
    "        train_generator,\n",
    "        steps_per_epoch=2000 // batch_size,\n",
    "        epochs=50,\n",
    "        validation_data=validation_generator,\n",
    "        validation_steps=800 // batch_size)\n",
    "\n",
    "model.save('malaria_detect.h5')  # always save your weights after training or during training"
   ]
  },
  {
   "cell_type": "code",
   "execution_count": null,
   "id": "792f9b64",
   "metadata": {},
   "outputs": [],
   "source": [
    "model = load_model('malaria_detect.h5') "
   ]
  },
  {
   "cell_type": "code",
   "execution_count": 34,
   "id": "2201d7e3",
   "metadata": {},
   "outputs": [
    {
     "data": {
      "text/plain": [
       "'C:\\\\Users\\\\sonuc\\\\Desktop\\\\Data_Science\\\\Malaria_detection\\\\Malaria Cells\\\\single_prediction\\\\2p.png'"
      ]
     },
     "execution_count": 34,
     "metadata": {},
     "output_type": "execute_result"
    }
   ],
   "source": [
    "image_path = r'C:\\Users\\sonuc\\Desktop\\Data_Science\\Malaria_detection\\Malaria Cells\\single_prediction\\2p.png'\n",
    "image_path"
   ]
  },
  {
   "cell_type": "code",
   "execution_count": 35,
   "id": "d6ac6aba",
   "metadata": {},
   "outputs": [
    {
     "name": "stdout",
     "output_type": "stream",
     "text": [
      "Parasitised\n"
     ]
    }
   ],
   "source": [
    "user_img = image.load_img(image_path,target_size = (150,150))\n",
    "user_img = image.img_to_array(user_img)\n",
    "user_img = user_img.reshape(1, 150, 150, 3)\n",
    "\n",
    "\n",
    "x = (model.predict(user_img) > 0.5).astype(\"int32\")\n",
    "#print(x)\n",
    "if(x[0][0]== 0):      \n",
    "    label = 'Uninfected'\n",
    "    print(label)\n",
    "else:\n",
    "    label = 'Parasitised'\n",
    "    print(label)"
   ]
  },
  {
   "cell_type": "code",
   "execution_count": null,
   "id": "47074e39",
   "metadata": {},
   "outputs": [],
   "source": []
  }
 ],
 "metadata": {
  "kernelspec": {
   "display_name": "Python 3",
   "language": "python",
   "name": "python3"
  },
  "language_info": {
   "codemirror_mode": {
    "name": "ipython",
    "version": 3
   },
   "file_extension": ".py",
   "mimetype": "text/x-python",
   "name": "python",
   "nbconvert_exporter": "python",
   "pygments_lexer": "ipython3",
   "version": "3.8.8"
  }
 },
 "nbformat": 4,
 "nbformat_minor": 5
}
